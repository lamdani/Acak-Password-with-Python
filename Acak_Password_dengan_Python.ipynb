{
  "nbformat": 4,
  "nbformat_minor": 0,
  "metadata": {
    "colab": {
      "name": "Acak Password dengan Python.ipynb",
      "provenance": [],
      "authorship_tag": "ABX9TyNMN8Zqe6SQTVCWn5OJHV97",
      "include_colab_link": true
    },
    "kernelspec": {
      "name": "python3",
      "display_name": "Python 3"
    }
  },
  "cells": [
    {
      "cell_type": "markdown",
      "metadata": {
        "id": "view-in-github",
        "colab_type": "text"
      },
      "source": [
        "<a href=\"https://colab.research.google.com/github/lamdani/Acak-Password-with-Python/blob/main/Acak_Password_dengan_Python.ipynb\" target=\"_parent\"><img src=\"https://colab.research.google.com/assets/colab-badge.svg\" alt=\"Open In Colab\"/></a>"
      ]
    },
    {
      "cell_type": "code",
      "metadata": {
        "id": "m52HremHOMy0"
      },
      "source": [
        "import random"
      ],
      "execution_count": 20,
      "outputs": []
    },
    {
      "cell_type": "code",
      "metadata": {
        "id": "My5y9sjLQn7-"
      },
      "source": [
        "from string import digits, punctuation, ascii_letters"
      ],
      "execution_count": 21,
      "outputs": []
    },
    {
      "cell_type": "code",
      "metadata": {
        "id": "7EZ0Lt--QzFH"
      },
      "source": [
        "panjang = 25\r\n",
        "simbol = ascii_letters + digits + punctuation\r\n",
        "SecureRandom = random.SystemRandom()\r\n",
        "password = \"\".join(SecureRandom.choice(simbol)\r\n",
        "                   for i in range(panjang))"
      ],
      "execution_count": 22,
      "outputs": []
    },
    {
      "cell_type": "code",
      "metadata": {
        "colab": {
          "base_uri": "https://localhost:8080/"
        },
        "id": "kuath1cuSZyu",
        "outputId": "1163c340-f717-4cb3-f94d-4bfc7e509b70"
      },
      "source": [
        "print(password)"
      ],
      "execution_count": 23,
      "outputs": [
        {
          "output_type": "stream",
          "text": [
            "nc2+\\*u4`ZM|O7UxwT\"|jx'tc\n"
          ],
          "name": "stdout"
        }
      ]
    }
  ]
}